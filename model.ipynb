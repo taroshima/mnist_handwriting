{
 "cells": [
  {
   "cell_type": "code",
   "execution_count": 28,
   "metadata": {},
   "outputs": [
    {
     "name": "stdout",
     "output_type": "stream",
     "text": [
      "Training data shape: (60000, 28, 28), Labels shape: (60000,)\n",
      "Test data shape: (10000, 28, 28), Labels shape: (10000,)\n"
     ]
    }
   ],
   "source": [
    "from tensorflow.keras.datasets import mnist\n",
    "import tensorflow as tf\n",
    "import numpy as np\n",
    "from tensorflow.keras.models import Sequential\n",
    "from tensorflow.keras.layers import Dense, Dropout, BatchNormalization\n",
    "from tensorflow.keras.optimizers import Adam\n",
    "from tensorflow.keras.regularizers import l2\n",
    "\n",
    "# Load dataset\n",
    "(x_train, y_train), (x_test, y_test) = mnist.load_data()\n",
    "\n",
    "print(f\"Training data shape: {x_train.shape}, Labels shape: {y_train.shape}\")\n",
    "print(f\"Test data shape: {x_test.shape}, Labels shape: {y_test.shape}\")\n"
   ]
  },
  {
   "cell_type": "code",
   "execution_count": 29,
   "metadata": {},
   "outputs": [
    {
     "data": {
      "image/png": "[encoded data removed]",
      "text/plain": [
       "<Figure size 1000x1000 with 9 Axes>"
      ]
     },
     "metadata": {},
     "output_type": "display_data"
    }
   ],
   "source": [
    "import matplotlib.pyplot as plt\n",
    "\n",
    "# Plot first 9 images\n",
    "plt.figure(figsize=(10, 10))\n",
    "for i in range(9):\n",
    "    plt.subplot(3, 3, i+1)\n",
    "    plt.imshow(x_train[i], cmap='gray')\n",
    "    plt.title(f\"Label: {y_train[i]}\")\n",
    "    plt.axis('off')\n",
    "plt.show()\n"
   ]
  },
  {
   "cell_type": "code",
   "execution_count": 30,
   "metadata": {},
   "outputs": [],
   "source": [
    "from tensorflow.keras.utils import to_categorical\n",
    "\n",
    "# Normalize images\n",
    "x_train = x_train / 255.0\n",
    "x_test = x_test / 255.0\n",
    "\n",
    "# Flatten images\n",
    "x_train = x_train.reshape(-1, 28*28)\n",
    "x_test = x_test.reshape(-1, 28*28)\n",
    "\n",
    "# One-hot encode labels\n",
    "y_train = to_categorical(y_train, num_classes=10)\n",
    "y_test = to_categorical(y_test, num_classes=10)\n"
   ]
  },
  {
   "cell_type": "code",
   "execution_count": null,
   "metadata": {},
   "outputs": [
    {
     "name": "stdout",
     "output_type": "stream",
     "text": [
      "Epoch 1/30\n",
      "375/375 [==============================] - 9s 18ms/step - loss: 4.4094 - accuracy: 0.8706 - val_loss: 1.4691 - val_accuracy: 0.8572 - lr: 0.0010\n",
      "Epoch 2/30\n",
      "375/375 [==============================] - 6s 17ms/step - loss: 0.8272 - accuracy: 0.9256 - val_loss: 0.6430 - val_accuracy: 0.9296 - lr: 0.0010\n",
      "Epoch 3/30\n",
      "375/375 [==============================] - 6s 17ms/step - loss: 0.6267 - accuracy: 0.9264 - val_loss: 0.5574 - val_accuracy: 0.9382 - lr: 0.0010\n",
      "Epoch 4/30\n",
      "375/375 [==============================] - 6s 17ms/step - loss: 0.5725 - accuracy: 0.9304 - val_loss: 0.5302 - val_accuracy: 0.9370 - lr: 0.0010\n",
      "Epoch 5/30\n",
      "375/375 [==============================] - 7s 17ms/step - loss: 0.5355 - accuracy: 0.9335 - val_loss: 0.4847 - val_accuracy: 0.9424 - lr: 0.0010\n",
      "Epoch 6/30\n",
      "375/375 [==============================] - 6s 17ms/step - loss: 0.5217 - accuracy: 0.9345 - val_loss: 0.4828 - val_accuracy: 0.9419 - lr: 0.0010\n",
      "Epoch 7/30\n",
      "375/375 [==============================] - 6s 16ms/step - loss: 0.5021 - accuracy: 0.9352 - val_loss: 0.4511 - val_accuracy: 0.9507 - lr: 0.0010\n",
      "Epoch 8/30\n",
      "375/375 [==============================] - 6s 17ms/step - loss: 0.4916 - accuracy: 0.9361 - val_loss: 0.4740 - val_accuracy: 0.9383 - lr: 0.0010\n",
      "Epoch 9/30\n",
      "375/375 [==============================] - 6s 17ms/step - loss: 0.4795 - accuracy: 0.9374 - val_loss: 0.4336 - val_accuracy: 0.9442 - lr: 0.0010\n",
      "Epoch 10/30\n",
      "375/375 [==============================] - 6s 17ms/step - loss: 0.4668 - accuracy: 0.9371 - val_loss: 0.3984 - val_accuracy: 0.9524 - lr: 0.0010\n",
      "Epoch 11/30\n",
      "375/375 [==============================] - 6s 17ms/step - loss: 0.4604 - accuracy: 0.9369 - val_loss: 0.4334 - val_accuracy: 0.9423 - lr: 0.0010\n",
      "Epoch 12/30\n",
      "375/375 [==============================] - 6s 17ms/step - loss: 0.4499 - accuracy: 0.9361 - val_loss: 0.4128 - val_accuracy: 0.9418 - lr: 0.0010\n",
      "Epoch 13/30\n",
      "375/375 [==============================] - 6s 17ms/step - loss: 0.4446 - accuracy: 0.9386 - val_loss: 0.3963 - val_accuracy: 0.9490 - lr: 0.0010\n",
      "Epoch 14/30\n",
      "375/375 [==============================] - 6s 17ms/step - loss: 0.4459 - accuracy: 0.9375 - val_loss: 0.3655 - val_accuracy: 0.9592 - lr: 0.0010\n",
      "Epoch 15/30\n",
      "375/375 [==============================] - 6s 17ms/step - loss: 0.4377 - accuracy: 0.9377 - val_loss: 0.3934 - val_accuracy: 0.9501 - lr: 0.0010\n",
      "Epoch 16/30\n",
      "375/375 [==============================] - 7s 18ms/step - loss: 0.4411 - accuracy: 0.9373 - val_loss: 0.3647 - val_accuracy: 0.9578 - lr: 0.0010\n",
      "Epoch 17/30\n",
      "375/375 [==============================] - 6s 17ms/step - loss: 0.4312 - accuracy: 0.9383 - val_loss: 0.4430 - val_accuracy: 0.9358 - lr: 0.0010\n",
      "Epoch 18/30\n",
      "375/375 [==============================] - 6s 17ms/step - loss: 0.4270 - accuracy: 0.9387 - val_loss: 0.3599 - val_accuracy: 0.9571 - lr: 0.0010\n",
      "Epoch 19/30\n",
      "375/375 [==============================] - 6s 17ms/step - loss: 0.4173 - accuracy: 0.9405 - val_loss: 0.3826 - val_accuracy: 0.9471 - lr: 0.0010\n",
      "Epoch 20/30\n",
      "375/375 [==============================] - 7s 18ms/step - loss: 0.4188 - accuracy: 0.9382 - val_loss: 0.3447 - val_accuracy: 0.9591 - lr: 0.0010\n",
      "Epoch 21/30\n",
      "375/375 [==============================] - 7s 18ms/step - loss: 0.4169 - accuracy: 0.9399 - val_loss: 0.3600 - val_accuracy: 0.9548 - lr: 0.0010\n",
      "Epoch 22/30\n",
      "375/375 [==============================] - 6s 17ms/step - loss: 0.4079 - accuracy: 0.9423 - val_loss: 0.3530 - val_accuracy: 0.9556 - lr: 0.0010\n",
      "Epoch 23/30\n",
      "375/375 [==============================] - 7s 18ms/step - loss: 0.4140 - accuracy: 0.9396 - val_loss: 0.3667 - val_accuracy: 0.9517 - lr: 0.0010\n",
      "Epoch 24/30\n",
      "375/375 [==============================] - 6s 17ms/step - loss: 0.3168 - accuracy: 0.9583 - val_loss: 0.2466 - val_accuracy: 0.9731 - lr: 2.0000e-04\n",
      "Epoch 25/30\n",
      "375/375 [==============================] - 6s 17ms/step - loss: 0.2511 - accuracy: 0.9674 - val_loss: 0.2099 - val_accuracy: 0.9750 - lr: 2.0000e-04\n",
      "Epoch 26/30\n",
      "375/375 [==============================] - 6s 17ms/step - loss: 0.2210 - accuracy: 0.9682 - val_loss: 0.2054 - val_accuracy: 0.9709 - lr: 2.0000e-04\n",
      "Epoch 27/30\n",
      "375/375 [==============================] - 7s 18ms/step - loss: 0.2062 - accuracy: 0.9692 - val_loss: 0.1787 - val_accuracy: 0.9769 - lr: 2.0000e-04\n",
      "Epoch 28/30\n",
      "375/375 [==============================] - 6s 17ms/step - loss: 0.1962 - accuracy: 0.9693 - val_loss: 0.1805 - val_accuracy: 0.9739 - lr: 2.0000e-04\n",
      "Epoch 29/30\n",
      "375/375 [==============================] - 6s 16ms/step - loss: 0.1882 - accuracy: 0.9699 - val_loss: 0.1745 - val_accuracy: 0.9749 - lr: 2.0000e-04\n",
      "Epoch 30/30\n",
      "375/375 [==============================] - 6s 17ms/step - loss: 0.1860 - accuracy: 0.9696 - val_loss: 0.1621 - val_accuracy: 0.9768 - lr: 2.0000e-04\n",
      "313/313 [==============================] - 1s 4ms/step - loss: 0.1614 - accuracy: 0.9758\n",
      "Test accuracy: 0.9758\n"
     ]
    }
   ],
   "source": [
    "# Build the model\n",
    "model = Sequential([\n",
    "    Dense(512, input_shape=(784,), activation='relu', kernel_regularizer=l2(0.01)),\n",
    "    BatchNormalization(),\n",
    "    Dropout(0.2),\n",
    "    \n",
    "    Dense(256, activation='relu', kernel_regularizer=l2(0.01)),\n",
    "    BatchNormalization(),\n",
    "    Dropout(0.3),\n",
    "    \n",
    "    Dense(128, activation='relu', kernel_regularizer=l2(0.01)),\n",
    "    BatchNormalization(),\n",
    "    Dropout(0.3),\n",
    "    \n",
    "    Dense(64, activation='relu', kernel_regularizer=l2(0.01)),\n",
    "    BatchNormalization(),\n",
    "    Dropout(0.2),\n",
    "    \n",
    "    Dense(10, activation='softmax')\n",
    "])\n",
    "\n",
    "optimizer = Adam(learning_rate=0.001)\n",
    "\n",
    "model.compile(optimizer=optimizer, loss='categorical_crossentropy', metrics=['accuracy'])\n",
    "\n",
    "early_stopping = tf.keras.callbacks.EarlyStopping(\n",
    "    monitor='val_loss',\n",
    "    patience=5,\n",
    "    restore_best_weights=True\n",
    ")\n",
    "\n",
    "reduce_lr = tf.keras.callbacks.ReduceLROnPlateau(\n",
    "    monitor='val_loss',\n",
    "    factor=0.2,\n",
    "    patience=3,\n",
    "    min_lr=1e-6\n",
    ")\n",
    "\n",
    "history = model.fit(\n",
    "    x_train, y_train,\n",
    "    batch_size=128,\n",
    "    epochs=30,\n",
    "    validation_split=0.2,\n",
    "    callbacks=[early_stopping, reduce_lr]\n",
    ")\n",
    "\n",
    "test_loss, test_accuracy = model.evaluate(x_test, y_test)\n",
    "print(f\"Test accuracy: {test_accuracy:.4f}\")\n",
    "\n",
    "model.save('mnist_model.h5')"
   ]
  },
  {
   "cell_type": "code",
   "execution_count": 40,
   "metadata": {},
   "outputs": [
    {
     "name": "stdout",
     "output_type": "stream",
     "text": [
      "1/1 [==============================] - 0s 34ms/step\n",
      "Predicted Label: 9\n"
     ]
    },
    {
     "data": {
      "image/png": "[encoded data removed]",
      "text/plain": [
       "<Figure size 640x480 with 1 Axes>"
      ]
     },
     "metadata": {},
     "output_type": "display_data"
    }
   ],
   "source": [
    "import numpy as np\n",
    "test_ind=906\n",
    "prediction = model.predict(x_test[test_ind].reshape(1, 784))\n",
    "predicted_label = np.argmax(prediction)\n",
    "print(f\"Predicted Label: {predicted_label}\")\n",
    "plt.imshow(x_test[test_ind].reshape(28, 28), cmap='gray')\n",
    "plt.title(f\"Predicted: {predicted_label}\")\n",
    "plt.axis('off')\n",
    "plt.show()"
   ]
  },
  {
   "cell_type": "code",
   "execution_count": 33,
   "metadata": {},
   "outputs": [
    {
     "data": {
      "image/png": "[encoded data removed]",
      "text/plain": [
       "<Figure size 640x480 with 1 Axes>"
      ]
     },
     "metadata": {},
     "output_type": "display_data"
    }
   ],
   "source": [
    "\n"
   ]
  },
  {
   "cell_type": "code",
   "execution_count": null,
   "metadata": {},
   "outputs": [],
   "source": [
    "model.save('mnist_model.h5')  \n",
    "from tensorflow.keras.models import load_model\n",
    "model = load_model('mnist_model.h5')\n"
   ]
  },
  {
   "cell_type": "code",
   "execution_count": null,
   "metadata": {},
   "outputs": [],
   "source": []
  }
 ],
 "metadata": {
  "kernelspec": {
   "display_name": "Python 3",
   "language": "python",
   "name": "python3"
  },
  "language_info": {
   "codemirror_mode": {
    "name": "ipython",
    "version": 3
   },
   "file_extension": ".py",
   "mimetype": "text/x-python",
   "name": "python",
   "nbconvert_exporter": "python",
   "pygments_lexer": "ipython3",
   "version": "3.10.11"
  }
 },
 "nbformat": 4,
 "nbformat_minor": 2
}
